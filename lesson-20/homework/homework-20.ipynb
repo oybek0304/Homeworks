{
 "cells": [
  {
   "cell_type": "code",
   "execution_count": 2,
   "id": "b34c16ef",
   "metadata": {},
   "outputs": [],
   "source": [
    "import sqlite3\n",
    "import pandas as pd\n",
    "\n",
    "conn = sqlite3.connect('chinook.db')"
   ]
  },
  {
   "cell_type": "code",
   "execution_count": null,
   "id": "5dff19b6",
   "metadata": {},
   "outputs": [
    {
     "name": "stdout",
     "output_type": "stream",
     "text": [
      "    CustomerId  FirstName      LastName  Total\n",
      "0            6     Helena          Holý  49.62\n",
      "1           26    Richard    Cunningham  47.62\n",
      "2           57       Luis         Rojas  46.62\n",
      "3           45   Ladislav        Kovács  45.62\n",
      "4           46       Hugh      O'Reilly  45.62\n",
      "5           28      Julia       Barnett  43.62\n",
      "6           37       Fynn    Zimmermann  43.62\n",
      "7           24      Frank       Ralston  43.62\n",
      "8            7     Astrid        Gruber  42.62\n",
      "9           25     Victor       Stevens  42.62\n",
      "10          44      Terhi    Hämäläinen  41.62\n",
      "11           5  František   Wichterlová  40.62\n",
      "12          43   Isabelle       Mercier  40.62\n",
      "13          48   Johannes  Van der Berg  40.62\n",
      "14           1       Luís     Gonçalves  39.62\n",
      "15          17       Jack         Smith  39.62\n",
      "16          22    Heather       Leacock  39.62\n",
      "17          34       João     Fernandes  39.62\n",
      "18          42      Wyatt        Girard  39.62\n",
      "19          20        Dan        Miller  39.62\n",
      "20           3   François      Tremblay  39.62\n",
      "21           4      Bjørn        Hansen  39.62\n",
      "22          51     Joakim     Johansson  38.62\n",
      "23          39    Camille       Bernard  38.62\n",
      "24          19        Tim         Goyer  38.62\n",
      "25          15   Jennifer      Peterson  38.62\n",
      "26          40  Dominique      Lefebvre  38.62\n",
      "27          58      Manoj        Pareek  38.62\n",
      "28          56      Diego     Gutiérrez  37.62\n",
      "29          52       Emma         Jones  37.62\n",
      "30          47      Lucas       Mancini  37.62\n",
      "31          38     Niklas      Schröder  37.62\n",
      "32          55       Mark        Taylor  37.62\n",
      "33          30     Edward       Francis  37.62\n",
      "34          18   Michelle        Brooks  37.62\n",
      "35          10    Eduardo       Martins  37.62\n",
      "36          14       Mark       Philips  37.62\n",
      "37          27    Patrick          Gray  37.62\n",
      "38           9       Kara       Nielsen  37.62\n",
      "39          13   Fernanda         Ramos  37.62\n",
      "40          35   Madalena       Sampaio  37.62\n",
      "41          31     Martha          Silk  37.62\n",
      "42          11  Alexandre         Rocha  37.62\n",
      "43          21      Kathy         Chase  37.62\n",
      "44          23       John        Gordon  37.62\n",
      "45          12    Roberto       Almeida  37.62\n",
      "46          16      Frank        Harris  37.62\n",
      "47           8       Daan       Peeters  37.62\n",
      "48           2     Leonie        Köhler  37.62\n",
      "49          29     Robert         Brown  37.62\n",
      "50          32      Aaron      Mitchell  37.62\n",
      "51          41       Marc        Dubois  37.62\n",
      "52          36     Hannah     Schneider  37.62\n",
      "53          33      Ellie      Sullivan  37.62\n",
      "54          49  Stanisław        Wójcik  37.62\n",
      "55          50    Enrique         Muñoz  37.62\n",
      "56          53       Phil        Hughes  37.62\n",
      "57          54      Steve        Murray  37.62\n",
      "58          59       Puja    Srivastava  36.64\n"
     ]
    }
   ],
   "source": [
    "# Homework 1\n",
    "# Task 1\n",
    "\n",
    "customers_df = pd.read_sql_query(\"SELECT CustomerId, FirstName, LastName FROM Customer\", conn)\n",
    "invoices_df = pd.read_sql_query(\"SELECT CustomerId, Total FROM Invoice\", conn)\n",
    "\n",
    "customer_spending = invoices_df.groupby('CustomerId')['Total'].sum().reset_index()\n",
    "\n",
    "result_df = customer_spending.merge(customers_df, on='CustomerId')\n",
    "\n",
    "result_df = result_df[['CustomerId', 'FirstName', 'LastName', 'Total']]\n",
    "result_df = result_df.sort_values(by='Total', ascending=False).reset_index(drop=True)\n",
    "\n",
    "print(result_df)\n",
    "\n",
    "conn.close()"
   ]
  },
  {
   "cell_type": "code",
   "execution_count": null,
   "id": "9ef48b49",
   "metadata": {},
   "outputs": [
    {
     "name": "stdout",
     "output_type": "stream",
     "text": [
      "   CustomerId FirstName    LastName  Total\n",
      "0           6    Helena        Holý  49.62\n",
      "1          26   Richard  Cunningham  47.62\n",
      "2          57      Luis       Rojas  46.62\n",
      "3          45  Ladislav      Kovács  45.62\n",
      "4          46      Hugh    O'Reilly  45.62\n"
     ]
    }
   ],
   "source": [
    "# Task 2\n",
    "\n",
    "conn = sqlite3.connect('chinook.db')\n",
    "\n",
    "customers_df = pd.read_sql_query(\"SELECT CustomerId, FirstName, LastName FROM Customer\", conn)\n",
    "invoices_df = pd.read_sql_query(\"SELECT CustomerId, Total FROM Invoice\", conn)\n",
    "\n",
    "customer_spending = invoices_df.groupby('CustomerId')['Total'].sum().reset_index()\n",
    "\n",
    "result_df = customer_spending.merge(customers_df, on='CustomerId')\n",
    "\n",
    "top_5_customers = result_df.sort_values(by='Total', ascending=False).head(5)\n",
    "\n",
    "top_5_customers = top_5_customers[['CustomerId', 'FirstName', 'LastName', 'Total']].reset_index(drop=True)\n",
    "\n",
    "print(top_5_customers)\n",
    "\n",
    "conn.close()"
   ]
  },
  {
   "cell_type": "code",
   "execution_count": null,
   "id": "b2322330",
   "metadata": {},
   "outputs": [
    {
     "name": "stdout",
     "output_type": "stream",
     "text": [
      "   CustomerId            FullName  Total\n",
      "0           6         Helena Holý  49.62\n",
      "1          26  Richard Cunningham  47.62\n",
      "2          57          Luis Rojas  46.62\n",
      "3          45     Ladislav Kovács  45.62\n",
      "4          46       Hugh O'Reilly  45.62\n"
     ]
    }
   ],
   "source": [
    "# Task 3\n",
    "\n",
    "conn = sqlite3.connect('chinook.db')\n",
    "\n",
    "invoices_df = pd.read_sql_query(\"SELECT CustomerId, Total FROM Invoice\", conn)\n",
    "customers_df = pd.read_sql_query(\"SELECT CustomerId, FirstName || ' ' || LastName AS FullName FROM Customer\", conn)\n",
    "\n",
    "total_spent = invoices_df.groupby('CustomerId')['Total'].sum().reset_index()\n",
    "\n",
    "top_customers = total_spent.merge(customers_df, on='CustomerId')\n",
    "\n",
    "top_5 = top_customers.sort_values(by='Total', ascending=False).head(5).reset_index(drop=True)\n",
    "\n",
    "print(top_5[['CustomerId', 'FullName', 'Total']])\n",
    "\n",
    "conn.close()"
   ]
  },
  {
   "cell_type": "code",
   "execution_count": null,
   "id": "d778f6a7",
   "metadata": {},
   "outputs": [
    {
     "name": "stdout",
     "output_type": "stream",
     "text": [
      "Percentage of customers who prefer individual track purchases: 64.41%\n"
     ]
    }
   ],
   "source": [
    "# Homework 2\n",
    "# Task 1\n",
    "\n",
    "conn = sqlite3.connect('chinook.db')\n",
    "\n",
    "invoice_lines = pd.read_sql_query(\"SELECT InvoiceId, TrackId FROM InvoiceLine\", conn)\n",
    "tracks = pd.read_sql_query(\"SELECT TrackId, AlbumId FROM Track\", conn)\n",
    "invoices = pd.read_sql_query(\"SELECT InvoiceId, CustomerId FROM Invoice\", conn)\n",
    "\n",
    "invoice_album = invoice_lines.merge(tracks, on='TrackId')\n",
    "invoice_album = invoice_album.merge(invoices, on='InvoiceId')\n",
    "\n",
    "album_track_counts = tracks.groupby('AlbumId')['TrackId'].nunique().reset_index()\n",
    "album_track_counts.rename(columns={'TrackId': 'TotalTracks'}, inplace=True)\n",
    "\n",
    "invoice_album_counts = invoice_album.groupby(['InvoiceId', 'AlbumId'])['TrackId'].count().reset_index()\n",
    "invoice_album_counts = invoice_album_counts.merge(album_track_counts, on='AlbumId')\n",
    "\n",
    "invoice_album_counts['FullAlbum'] = invoice_album_counts['TrackId'] == invoice_album_counts['TotalTracks']\n",
    "\n",
    "invoice_album = invoice_album.merge(invoice_album_counts[['InvoiceId', 'AlbumId', 'FullAlbum']], on=['InvoiceId', 'AlbumId'])\n",
    "album_buyers = invoice_album[invoice_album['FullAlbum'] == True]['CustomerId'].unique()\n",
    "\n",
    "all_customers = invoices['CustomerId'].unique()\n",
    "\n",
    "track_buyers = set(all_customers) - set(album_buyers)\n",
    "\n",
    "track_buyer_percentage = len(track_buyers) / len(all_customers) * 100\n",
    "\n",
    "print(f\"Percentage of customers who prefer individual track purchases: {track_buyer_percentage:.2f}%\")\n",
    "\n",
    "# Close connection\n",
    "conn.close()"
   ]
  },
  {
   "cell_type": "code",
   "execution_count": 8,
   "id": "4885a4c4",
   "metadata": {},
   "outputs": [
    {
     "name": "stdout",
     "output_type": "stream",
     "text": [
      "Percentage of customers who prefer individual tracks (never bought a full album): 64.41%\n"
     ]
    }
   ],
   "source": [
    "# Task 2\n",
    "\n",
    "conn = sqlite3.connect('chinook.db')\n",
    "\n",
    "tracks = pd.read_sql_query(\"SELECT TrackId, AlbumId FROM Track\", conn)\n",
    "invoice_lines = pd.read_sql_query(\"SELECT InvoiceId, TrackId FROM InvoiceLine\", conn)\n",
    "invoices = pd.read_sql_query(\"SELECT InvoiceId, CustomerId FROM Invoice\", conn)\n",
    "\n",
    "invoice_album = invoice_lines.merge(tracks, on='TrackId')\n",
    "invoice_album = invoice_album.merge(invoices, on='InvoiceId')\n",
    "\n",
    "album_track_counts = tracks.groupby('AlbumId')['TrackId'].nunique().reset_index()\n",
    "album_track_counts.rename(columns={'TrackId': 'AlbumTotalTracks'}, inplace=True)\n",
    "\n",
    "invoice_album_counts = invoice_album.groupby(['InvoiceId', 'AlbumId']).agg({'TrackId': 'count'}).reset_index()\n",
    "invoice_album_counts.rename(columns={'TrackId': 'TracksPurchased'}, inplace=True)\n",
    "\n",
    "invoice_album_counts = invoice_album_counts.merge(album_track_counts, on='AlbumId')\n",
    "invoice_album_counts['FullAlbum'] = invoice_album_counts['TracksPurchased'] == invoice_album_counts['AlbumTotalTracks']\n",
    "\n",
    "invoice_customer_map = invoices[['InvoiceId', 'CustomerId']]\n",
    "invoice_album_counts = invoice_album_counts.merge(invoice_customer_map, on='InvoiceId')\n",
    "\n",
    "album_buyers = invoice_album_counts[invoice_album_counts['FullAlbum'] == True]['CustomerId'].unique()\n",
    "\n",
    "all_customers = pd.read_sql_query(\"SELECT CustomerId FROM Customer\", conn)['CustomerId'].unique()\n",
    "\n",
    "track_preferring_customers = set(all_customers) - set(album_buyers)\n",
    "\n",
    "track_preferring_pct = (len(track_preferring_customers) / len(all_customers)) * 100\n",
    "\n",
    "print(f\"Percentage of customers who prefer individual tracks (never bought a full album): {track_preferring_pct:.2f}%\")\n",
    "\n",
    "conn.close()"
   ]
  },
  {
   "cell_type": "code",
   "execution_count": null,
   "id": "cea6adfa",
   "metadata": {},
   "outputs": [
    {
     "name": "stdout",
     "output_type": "stream",
     "text": [
      "        CustomerType  CustomerCount  Percentage\n",
      "0  Full Album Buyers             21    35.59322\n",
      "1  Track-Only Buyers             38    64.40678\n"
     ]
    }
   ],
   "source": [
    "# task 3\n",
    "\n",
    "conn = sqlite3.connect('chinook.db')\n",
    "\n",
    "tracks = pd.read_sql_query(\"SELECT TrackId, AlbumId FROM Track\", conn)\n",
    "invoice_lines = pd.read_sql_query(\"SELECT InvoiceId, TrackId FROM InvoiceLine\", conn)\n",
    "invoices = pd.read_sql_query(\"SELECT InvoiceId, CustomerId FROM Invoice\", conn)\n",
    "customers = pd.read_sql_query(\"SELECT CustomerId FROM Customer\", conn)\n",
    "\n",
    "invoice_album = invoice_lines.merge(tracks, on='TrackId')\n",
    "invoice_album = invoice_album.merge(invoices, on='InvoiceId')\n",
    "\n",
    "album_track_counts = tracks.groupby('AlbumId')['TrackId'].nunique().reset_index()\n",
    "album_track_counts.rename(columns={'TrackId': 'AlbumTotalTracks'}, inplace=True)\n",
    "\n",
    "invoice_album_counts = invoice_album.groupby(['InvoiceId', 'AlbumId']).agg({'TrackId': 'count'}).reset_index()\n",
    "invoice_album_counts.rename(columns={'TrackId': 'TracksPurchased'}, inplace=True)\n",
    "invoice_album_counts = invoice_album_counts.merge(album_track_counts, on='AlbumId')\n",
    "\n",
    "invoice_album_counts['FullAlbum'] = invoice_album_counts['TracksPurchased'] == invoice_album_counts['AlbumTotalTracks']\n",
    "\n",
    "invoice_album_counts = invoice_album_counts.merge(invoices[['InvoiceId', 'CustomerId']], on='InvoiceId')\n",
    "\n",
    "full_album_buyers = set(invoice_album_counts[invoice_album_counts['FullAlbum']]['CustomerId'])\n",
    "\n",
    "all_customers = set(customers['CustomerId'])\n",
    "\n",
    "track_only_buyers = all_customers - full_album_buyers\n",
    "\n",
    "total_customers = len(all_customers)\n",
    "num_album_buyers = len(full_album_buyers)\n",
    "num_track_buyers = len(track_only_buyers)\n",
    "\n",
    "album_buyer_pct = (num_album_buyers / total_customers) * 100\n",
    "track_buyer_pct = (num_track_buyers / total_customers) * 100\n",
    "\n",
    "summary_df = pd.DataFrame({\n",
    "    'CustomerType': ['Full Album Buyers', 'Track-Only Buyers'],\n",
    "    'CustomerCount': [num_album_buyers, num_track_buyers],\n",
    "    'Percentage': [album_buyer_pct, track_buyer_pct]\n",
    "})\n",
    "\n",
    "print(summary_df)\n",
    "\n",
    "conn.close()"
   ]
  }
 ],
 "metadata": {
  "kernelspec": {
   "display_name": "Python 3",
   "language": "python",
   "name": "python3"
  },
  "language_info": {
   "codemirror_mode": {
    "name": "ipython",
    "version": 3
   },
   "file_extension": ".py",
   "mimetype": "text/x-python",
   "name": "python",
   "nbconvert_exporter": "python",
   "pygments_lexer": "ipython3",
   "version": "3.12.9"
  }
 },
 "nbformat": 4,
 "nbformat_minor": 5
}
